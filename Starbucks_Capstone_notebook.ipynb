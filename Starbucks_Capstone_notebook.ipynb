{
 "cells": [
  {
   "cell_type": "markdown",
   "metadata": {},
   "source": [
    "# Starbucks Capstone Challenge\n",
    "\n",
    "### Introduction\n",
    "\n",
    "This data set contains simulated data that mimics customer behavior on the Starbucks rewards mobile app. Once every few days, Starbucks sends out an offer to users of the mobile app. An offer can be merely an advertisement for a drink or an actual offer such as a discount or BOGO (buy one get one free). Some users might not receive any offer during certain weeks. \n",
    "\n",
    "Not all users receive the same offer, and that is the challenge to solve with this data set.\n",
    "\n",
    "Your task is to combine transaction, demographic and offer data to determine which demographic groups respond best to which offer type. This data set is a simplified version of the real Starbucks app because the underlying simulator only has one product whereas Starbucks actually sells dozens of products.\n",
    "\n",
    "Every offer has a validity period before the offer expires. As an example, a BOGO offer might be valid for only 5 days. You'll see in the data set that informational offers have a validity period even though these ads are merely providing information about a product; for example, if an informational offer has 7 days of validity, you can assume the customer is feeling the influence of the offer for 7 days after receiving the advertisement.\n",
    "\n",
    "You'll be given transactional data showing user purchases made on the app including the timestamp of purchase and the amount of money spent on a purchase. This transactional data also has a record for each offer that a user receives as well as a record for when a user actually views the offer. There are also records for when a user completes an offer. \n",
    "\n",
    "Keep in mind as well that someone using the app might make a purchase through the app without having received an offer or seen an offer.\n",
    "\n",
    "### Example\n",
    "\n",
    "To give an example, a user could receive a discount offer buy 10 dollars get 2 off on Monday. The offer is valid for 10 days from receipt. If the customer accumulates at least 10 dollars in purchases during the validity period, the customer completes the offer.\n",
    "\n",
    "However, there are a few things to watch out for in this data set. Customers do not opt into the offers that they receive; in other words, a user can receive an offer, never actually view the offer, and still complete the offer. For example, a user might receive the \"buy 10 dollars get 2 dollars off offer\", but the user never opens the offer during the 10 day validity period. The customer spends 15 dollars during those ten days. There will be an offer completion record in the data set; however, the customer was not influenced by the offer because the customer never viewed the offer.\n",
    "\n",
    "### Cleaning\n",
    "\n",
    "This makes data cleaning especially important and tricky.\n",
    "\n",
    "You'll also want to take into account that some demographic groups will make purchases even if they don't receive an offer. From a business perspective, if a customer is going to make a 10 dollar purchase without an offer anyway, you wouldn't want to send a buy 10 dollars get 2 dollars off offer. You'll want to try to assess what a certain demographic group will buy when not receiving any offers.\n",
    "\n",
    "### Final Advice\n",
    "\n",
    "Because this is a capstone project, you are free to analyze the data any way you see fit. For example, you could build a machine learning model that predicts how much someone will spend based on demographics and offer type. Or you could build a model that predicts whether or not someone will respond to an offer. Or, you don't need to build a machine learning model at all. You could develop a set of heuristics that determine what offer you should send to each customer (i.e., 75 percent of women customers who were 35 years old responded to offer A vs 40 percent from the same demographic to offer B, so send offer A)."
   ]
  },
  {
   "cell_type": "markdown",
   "metadata": {},
   "source": [
    "# Data Sets\n",
    "\n",
    "The data is contained in three files:\n",
    "\n",
    "* portfolio.json - containing offer ids and meta data about each offer (duration, type, etc.)\n",
    "* profile.json - demographic data for each customer\n",
    "* transcript.json - records for transactions, offers received, offers viewed, and offers completed\n",
    "\n",
    "Here is the schema and explanation of each variable in the files:\n",
    "\n",
    "**portfolio.json**\n",
    "* id (string) - offer id\n",
    "* offer_type (string) - type of offer ie BOGO, discount, informational\n",
    "* difficulty (int) - minimum required spend to complete an offer\n",
    "* reward (int) - reward given for completing an offer\n",
    "* duration (int) - time for offer to be open, in days\n",
    "* channels (list of strings)\n",
    "\n",
    "**profile.json**\n",
    "* age (int) - age of the customer \n",
    "* became_member_on (int) - date when customer created an app account\n",
    "* gender (str) - gender of the customer (note some entries contain 'O' for other rather than M or F)\n",
    "* id (str) - customer id\n",
    "* income (float) - customer's income\n",
    "\n",
    "**transcript.json**\n",
    "* event (str) - record description (ie transaction, offer received, offer viewed, etc.)\n",
    "* person (str) - customer id\n",
    "* time (int) - time in hours since start of test. The data begins at time t=0\n",
    "* value - (dict of strings) - either an offer id or transaction amount depending on the record\n",
    "\n",
    "**Note:** If you are using the workspace, you will need to go to the terminal and run the command `conda update pandas` before reading in the files. This is because the version of pandas in the workspace cannot read in the transcript.json file correctly, but the newest version of pandas can. You can access the termnal from the orange icon in the top left of this notebook.  \n",
    "\n",
    "You can see how to access the terminal and how the install works using the two images below.  First you need to access the terminal:\n",
    "\n",
    "<img src=\"pic1.png\"/>\n",
    "\n",
    "Then you will want to run the above command:\n",
    "\n",
    "<img src=\"pic2.png\"/>\n",
    "\n",
    "Finally, when you enter back into the notebook (use the jupyter icon again), you should be able to run the below cell without any errors."
   ]
  },
  {
   "cell_type": "code",
   "execution_count": 4,
   "metadata": {},
   "outputs": [],
   "source": [
    "import pandas as pd\n",
    "import os\n",
    "import re\n",
    "import numpy as np\n",
    "import math\n",
    "import json\n",
    "import sys\n",
    "\n",
    "from sklearn.model_selection import train_test_split\n",
    "from sklearn.linear_model import LogisticRegression\n",
    "from sklearn.metrics import confusion_matrix\n",
    "from sklearn import metrics\n",
    "from sklearn import preprocessing\n",
    "import seaborn as sns\n",
    "import matplotlib.pyplot as plt\n",
    "\n",
    "from sklearn.metrics import classification_report\n",
    "% matplotlib inline\n",
    "\n",
    "# read in the json files\n",
    "portfolio = pd.read_json('data/portfolio.json', orient='records', lines=True)\n",
    "profile = pd.read_json('data/profile.json', orient='records', lines=True)\n",
    "transcript = pd.read_json('data/transcript.json', orient='records', lines=True)"
   ]
  },
  {
   "cell_type": "code",
   "execution_count": 6,
   "metadata": {},
   "outputs": [],
   "source": [
    "# temporary variable to store merged profile and transcript data\n",
    "temp = profile.merge(transcript, how='inner', left_on='id', right_on='person')\n",
    "\n",
    "# dataframe that filters for only offers received or viewed\n",
    "df = temp[(temp['event'] == 'offer received') | (temp['event'] == 'offer viewed')]\n",
    "df.reset_index(drop=True, inplace=True)"
   ]
  },
  {
   "cell_type": "code",
   "execution_count": 7,
   "metadata": {},
   "outputs": [
    {
     "name": "stderr",
     "output_type": "stream",
     "text": [
      "/opt/conda/lib/python3.6/site-packages/ipykernel_launcher.py:7: SettingWithCopyWarning: \n",
      "A value is trying to be set on a copy of a slice from a DataFrame.\n",
      "Try using .loc[row_indexer,col_indexer] = value instead\n",
      "\n",
      "See the caveats in the documentation: http://pandas.pydata.org/pandas-docs/stable/indexing.html#indexing-view-versus-copy\n",
      "  import sys\n"
     ]
    }
   ],
   "source": [
    "# create new column with offer IDs\n",
    "offer = []\n",
    "for i in range(0, len(df)):\n",
    "    x = df['value'][i]['offer id']\n",
    "    offer.append(x)\n",
    "    \n",
    "df['offer'] = offer"
   ]
  },
  {
   "cell_type": "code",
   "execution_count": 11,
   "metadata": {},
   "outputs": [
    {
     "name": "stderr",
     "output_type": "stream",
     "text": [
      "/opt/conda/lib/python3.6/site-packages/ipykernel_launcher.py:16: SettingWithCopyWarning: \n",
      "A value is trying to be set on a copy of a slice from a DataFrame\n",
      "\n",
      "See the caveats in the documentation: http://pandas.pydata.org/pandas-docs/stable/indexing.html#indexing-view-versus-copy\n",
      "  app.launch_new_instance()\n",
      "/opt/conda/lib/python3.6/site-packages/ipykernel_launcher.py:49: SettingWithCopyWarning: \n",
      "A value is trying to be set on a copy of a slice from a DataFrame.\n",
      "Try using .loc[row_indexer,col_indexer] = value instead\n",
      "\n",
      "See the caveats in the documentation: http://pandas.pydata.org/pandas-docs/stable/indexing.html#indexing-view-versus-copy\n"
     ]
    },
    {
     "name": "stdout",
     "output_type": "stream",
     "text": [
      "47959423adb741e1985fe1face3c27b4_4    2\n",
      "8fbb14f4f4a24f2c98c1cc7672e6be2e_3    2\n",
      "5610caca3fbf496b8a36e1bd51baeb19_3    2\n",
      "7e47f4f53c7d4f7eb4cb1d5c848f03fb_3    2\n",
      "b62f7fa13e5c4e81ae08a259b700b65c_4    2\n",
      "a33136cad1db4c639b3fe8f8103a7f64_3    2\n",
      "c166df1c320f45e8b31df4979f8e1ba9_4    2\n",
      "e008262ad24e46af98a928342e303c3e_3    2\n",
      "d5ba594e7bdd46cc96787b9ed1ca7390_2    2\n",
      "d1c534d5e28647a79c5e6515ab9c7af4_4    2\n",
      "98648e9fc28f44d99eac963018d97f1e_2    2\n",
      "325a76dbd5de4f62b1230ea9659f26fa_1    2\n",
      "acc0e0ced2c94365a02b8f2b7117d3b7_3    2\n",
      "559943eeb754463e844624a47d469253_2    2\n",
      "dbb37c0caad54f4a979a8121de79d0a2_4    2\n",
      "9fabcb66c51e4daaba9edaeb8cac2f6f_3    2\n",
      "8ac2b458d2284e4485976925b74cb205_3    2\n",
      "0d837358d66749459ddafd22b85f722f_3    2\n",
      "9d029c11f8b349cb97f41b794adb8158_2    2\n",
      "d31fa8b9716a45c9a9411eb805f8c7d0_3    2\n",
      "c0552910d13948cfb8d9f23b7c7d50b7_2    2\n",
      "fa02399824e44bab9485d2a19907f057_2    2\n",
      "1199ff8c90064e139db511cca3d3340c_2    2\n",
      "9a016ced390440d9962499459afce371_2    2\n",
      "cf7e4e33c98e4a2489846d97d46cb84e_3    2\n",
      "fd676e488fbd492ebbd3fc2049e93cee_5    2\n",
      "dfd0000b37b94c599d7d41c79defbec0_3    2\n",
      "deeef143acba4e409fd95f483858f2d0_2    2\n",
      "797a3cf770b645759d9a188dc53b674d_2    2\n",
      "194c17ebab614744a501d5ef67c3b010_3    2\n",
      "                                     ..\n",
      "9bff0ab1de694e8aab7f0a43b79772ae_5    1\n",
      "68f32c01b6b144c6be1bd18ac2c319c3_4    1\n",
      "89f451a5a8c64683b57aca2a334117ef_2    1\n",
      "8a87fda1a6644337b4394a4c3cd0946c_1    1\n",
      "868317b9be554cb18e50bc68484749a2_1    1\n",
      "e2602891e0704a9abd1989fc568cc8ed_4    1\n",
      "5f83c29712164b40827cc3268858aa28_2    1\n",
      "99f8f1204cd343ef96f813b7cdfe53e9_2    1\n",
      "8604cf2f2bc6438e8fe53c125a40997c_1    1\n",
      "bf9872d7aedd453797bdb75054b70d94_3    1\n",
      "a4c5415b4a7648d185dfd0379dde947a_4    1\n",
      "e5d3238906284a18814d35787c9df9d8_1    1\n",
      "bf3069b178fe40d789dd027901bc406b_4    1\n",
      "ef3151875cd7450c85e9effa680b70c4_2    1\n",
      "3a737ce429364b7499a51bdcf3ba43f2_1    1\n",
      "d2f1767a364347c6992d986b4a662dc4_3    1\n",
      "aaf27a405d4c4632b28f29ca0279c54a_4    1\n",
      "e12aeaf2d47d42479ea1c4ac3d8286c6_6    1\n",
      "e6cd4bec9abe432086770f43dd1918d0_4    1\n",
      "750899eaedae4f2c99a6cc0e54412875_4    1\n",
      "8c35bf5281cc457a839bfdb706f170fc_2    1\n",
      "3798869304074ff1b1bb1cbf1b352676_3    1\n",
      "7f5d06ea8470483084f4b838227a6c7e_5    1\n",
      "6cf884a6c5ae4b2daccb6d3108028fef_1    1\n",
      "f223c55edc8849698b4e901ffc14b23d_4    1\n",
      "a8dd247323774908ba7e9fdb3cf7cfec_3    1\n",
      "065467da18c743a7b8a87c9fd2d536d9_6    1\n",
      "e37c22feaa954a83b0d8ecc2be1f639a_5    1\n",
      "d63e377789c94231b7b8c75b2dc6e61f_2    1\n",
      "bd9dc3164de4400c93adbe2cba1501a4_1    1\n",
      "Name: offer_number, Length: 76277, dtype: int64\n"
     ]
    }
   ],
   "source": [
    "def transform_data(df):\n",
    "    \n",
    "    \"\"\"\n",
    "    Description: \n",
    "      Transforms given data by making each row a unique combination person and offer attempt\n",
    "    \n",
    "    Parameters:\n",
    "        df (DataFrame) - Combined dataframe containing merged data from profile.json\n",
    "                        and transcript.json\n",
    "    \n",
    "    Output:\n",
    "        final_df (DataFrame) - Transformed dataframe\n",
    "    \"\"\"\n",
    "    \n",
    "    # sort and reset index\n",
    "    df.sort_values(by=['id', 'time', 'event'], ascending=[True, True, True], inplace=True)\n",
    "    df.reset_index(drop=True, inplace=True)\n",
    "    \n",
    "    # subset of columns\n",
    "    df_subset = df[['person', 'event', 'offer', 'time']]\n",
    "    \n",
    "    offer_number = []\n",
    "    \n",
    "    #loop through and add offer number to person IDs\n",
    "    count = 1\n",
    "    for i in range(0,len(df_subset)):\n",
    "        # if first row, add _1\n",
    "        if i == 0:\n",
    "            offer_number.append(str(df_subset['person'][i]) + '_' + str(count))\n",
    "        else:\n",
    "            # if new person, restart the count\n",
    "            if df_subset['person'][i] != df_subset['person'][i-1]:\n",
    "                count = 0\n",
    "            else:\n",
    "                pass\n",
    "            # if offer was viewed, maintain same count; increase count by 1 for the next cycle\n",
    "            if 'offer viewed' in df_subset['event'][i] and df_subset['offer'][i] != df_subset['offer'][i-1]:\n",
    "                offer_number.append(str(df_subset['person'][i]) + '_' + str(count))\n",
    "                count += 1\n",
    "            else:\n",
    "                # if new offer is received, increase count by 1\n",
    "                if 'offer received' in df_subset['event'][i]:\n",
    "                    count += 1\n",
    "                    offer_number.append(str(df_subset['person'][i]) + '_' + str(count))\n",
    "                    \n",
    "                else:\n",
    "                    offer_number.append(str(df_subset['person'][i]) + '_' + str(count))\n",
    "                        \n",
    "    df_subset['offer_number'] = offer_number\n",
    "    \n",
    "    print(df_subset['offer_number'].value_counts())\n",
    "\n",
    "    # flatten -  every row is a unique offer number \n",
    "    cc = df_subset.groupby('offer_number').cumcount() + 1\n",
    "    \n",
    "    df_final = df_subset.set_index(['offer_number', 'person', 'offer', cc]).unstack().sort_index(1, level=1)\n",
    "\n",
    "    df_final.columns = ['_'.join(map(str,i)) for i in df_final.columns]\n",
    "    df_final.reset_index(inplace=True)\n",
    "    \n",
    "    \n",
    "    # dataframe cleaning\n",
    "    df_final = df_final[['offer_number', 'person', 'offer', 'time_1', 'time_2']]\n",
    "    df_final.rename(columns={'time_1': 'time_received', 'time_2': 'time_viewed'}, inplace=True)\n",
    "    \n",
    "    df_final['viewed'] = np.where(pd.isna(df_final['time_viewed']), 0, 1)\n",
    "    \n",
    "    return(df_final)\n",
    "\n",
    "df = transform_data(df)"
   ]
  },
  {
   "cell_type": "code",
   "execution_count": 12,
   "metadata": {},
   "outputs": [],
   "source": [
    "# merge our final dataset with portfolio and re-merge with profile\n",
    "df = df.merge(portfolio, how='left', left_on='offer', right_on='id')\n",
    "df = df.merge(profile, how='left', left_on='person', right_on='id')\n",
    "# drop duplicate columns\n",
    "df.drop(columns=['id_x', 'id_y'], inplace=True)"
   ]
  },
  {
   "cell_type": "code",
   "execution_count": 13,
   "metadata": {},
   "outputs": [],
   "source": [
    "# create new field for time difference\n",
    "import datetime\n",
    "df['c.became_member_on'] = pd.to_datetime(df['became_member_on'], format='%Y%m%d')"
   ]
  },
  {
   "cell_type": "code",
   "execution_count": 14,
   "metadata": {},
   "outputs": [],
   "source": [
    "#loop through and calculate how long each person has been a member\n",
    "time_difference = []\n",
    "for i in range(0, len(df)):\n",
    "    difference = abs(df['c.became_member_on'][i] - datetime.datetime.now()).days\n",
    "    time_difference.append(difference)\n",
    "        \n",
    "df['time_difference'] = time_difference"
   ]
  },
  {
   "cell_type": "code",
   "execution_count": 15,
   "metadata": {},
   "outputs": [],
   "source": [
    "# create new column for income groups\n",
    "income_group = []\n",
    "for income in df['income']:\n",
    "    if income < 25000.0:\n",
    "        income_group.append('25k or less')\n",
    "    elif income > 25000.0 and income <= 50000.0:\n",
    "        income_group.append('25k-50k')\n",
    "    elif income > 50000.0 and income <= 75000.0:\n",
    "        income_group.append('50k-75k')\n",
    "    elif income > 75000.0 and income <= 100000.0:\n",
    "        income_group.append('75k-100k')\n",
    "    elif income > 100000.0 and income <= 125000.0:\n",
    "            income_group.append('100k-125k') \n",
    "    elif income < 125000.0:\n",
    "            income_group.append('125k<') \n",
    "    else:\n",
    "        income_group.append('n/a')\n",
    "    \n",
    "df['income_group'] = income_group"
   ]
  },
  {
   "cell_type": "code",
   "execution_count": 16,
   "metadata": {},
   "outputs": [],
   "source": [
    "# create new column for age groups\n",
    "age_group = []\n",
    "for age in df['age']:\n",
    "    if age < 25:\n",
    "        age_group.append('25 or younger')\n",
    "    elif age > 25 and age <= 40:\n",
    "        age_group.append('25-40')\n",
    "    elif age > 40 and age <= 55:\n",
    "        age_group.append('40-55')\n",
    "    elif age > 55 and age <= 70:\n",
    "        age_group.append('55-70')\n",
    "    elif age > 75:\n",
    "        age_group.append('75<') \n",
    "    else:\n",
    "        age_group.append('n/a')\n",
    "    \n",
    "df['age_group'] = age_group"
   ]
  },
  {
   "cell_type": "code",
   "execution_count": 18,
   "metadata": {},
   "outputs": [
    {
     "data": {
      "image/png": "[encoded data removed]",
      "text/plain": [
       "<matplotlib.figure.Figure at 0x7fc1f5a03c50>"
      ]
     },
     "metadata": {
      "needs_background": "light"
     },
     "output_type": "display_data"
    }
   ],
   "source": [
    "# bar chart showing view percentage by offer type\n",
    "offer_type_percent = df.groupby('offer_type').apply(lambda x: x['viewed'].sum()/len(x)).to_frame().reset_index()\n",
    "offer_type_percent.rename(columns={0: 'percentage'}, inplace=True)\n",
    "\n",
    "import seaborn as sns\n",
    "ax = sns.barplot(x='offer_type', y='percentage', data=offer_type_percent)\n",
    "ax.set(ylim=(0, 1.0))\n",
    "\n",
    "for index, row in offer_type_percent.iterrows():\n",
    "    ax.text(row.name,row.percentage, round(row.percentage,3), color='black', ha='center')"
   ]
  },
  {
   "cell_type": "code",
   "execution_count": 19,
   "metadata": {},
   "outputs": [
    {
     "data": {
      "text/plain": [
       "[(0, 1.0)]"
      ]
     },
     "execution_count": 19,
     "metadata": {},
     "output_type": "execute_result"
    },
    {
     "data": {
      "image/png": "[encoded data removed]",
      "text/plain": [
       "<matplotlib.figure.Figure at 0x7fc1f59fea20>"
      ]
     },
     "metadata": {
      "needs_background": "light"
     },
     "output_type": "display_data"
    }
   ],
   "source": [
    "# bar chart showing view percentage by age group\n",
    "age_percent = df.groupby('age_group').apply(lambda x: x['viewed'].sum()/len(x)).to_frame().reset_index()\n",
    "age_percent.rename(columns={0: 'percentage'}, inplace=True)\n",
    "\n",
    "ax = sns.barplot(x='age_group', y='percentage', data=age_percent)\n",
    "ax.set(ylim=(0, 1.0))"
   ]
  },
  {
   "cell_type": "code",
   "execution_count": 20,
   "metadata": {},
   "outputs": [
    {
     "data": {
      "text/plain": [
       "[(0, 1.0)]"
      ]
     },
     "execution_count": 20,
     "metadata": {},
     "output_type": "execute_result"
    },
    {
     "data": {
      "image/png": "[encoded data removed]",
      "text/plain": [
       "<matplotlib.figure.Figure at 0x7fc1f595c710>"
      ]
     },
     "metadata": {
      "needs_background": "light"
     },
     "output_type": "display_data"
    }
   ],
   "source": [
    "# bar chart showing view percentage by income group\n",
    "income_percent = df.groupby('income_group').apply(lambda x: x['viewed'].sum()/len(x)).to_frame().reset_index()\n",
    "income_percent.rename(columns={0: 'percentage'}, inplace=True)\n",
    "\n",
    "ax = sns.barplot(x='income_group', y='percentage', data=income_percent, order=['25k-50k','50k-75k','75k-100k','100k-125k'])\n",
    "ax.set(ylim=(0, 1.0))"
   ]
  },
  {
   "cell_type": "code",
   "execution_count": 21,
   "metadata": {},
   "outputs": [
    {
     "name": "stderr",
     "output_type": "stream",
     "text": [
      "/opt/conda/lib/python3.6/site-packages/sklearn/utils/validation.py:578: DataConversionWarning: A column-vector y was passed when a 1d array was expected. Please change the shape of y to (n_samples, ), for example using ravel().\n",
      "  y = column_or_1d(y, warn=True)\n"
     ]
    },
    {
     "data": {
      "text/plain": [
       "LogisticRegression(C=1.0, class_weight={1: 1, 0: 3}, dual=False,\n",
       "          fit_intercept=True, intercept_scaling=1, max_iter=100,\n",
       "          multi_class='ovr', n_jobs=1, penalty='l2', random_state=None,\n",
       "          solver='liblinear', tol=0.0001, verbose=0, warm_start=False)"
      ]
     },
     "execution_count": 21,
     "metadata": {},
     "output_type": "execute_result"
    }
   ],
   "source": [
    "# logistic regression model to predict who will view offer based on age, income, and days since joining\n",
    "\n",
    "# drop rows with NaNs\n",
    "data = df.dropna(subset=['age', 'income', 'time_difference'])\n",
    "\n",
    "#create dataframe with the following fields\n",
    "data = data[['age'\n",
    "           ,'income'\n",
    "           ,'time_difference'\n",
    "           ,'viewed']] # extra predictor variables we can add later - 'Total Encounters (group)','days_since_last_appt_calc (group)',\n",
    "\n",
    "X = data.loc[:, data.columns != 'viewed'] # create dataframe of predictor variables \n",
    "y = data.loc[:, data.columns == 'viewed'] # create dataframe of outcome variable(s)\n",
    "\n",
    "X_train, X_test, y_train, y_test = train_test_split(X, y, test_size=0.3, random_state=42) # split up data into training and testing subsets\n",
    "\n",
    "model = LogisticRegression(class_weight={1:1, 0:3}) # create model object\n",
    "model.fit(X_train,y_train) # fit model to training data"
   ]
  },
  {
   "cell_type": "code",
   "execution_count": 23,
   "metadata": {},
   "outputs": [
    {
     "name": "stdout",
     "output_type": "stream",
     "text": [
      "accuracy = 0.602425943562\n",
      "\n",
      "\n",
      "recall = 0.693625310674\n",
      "\n",
      "\n",
      "precision = 0.753887712638\n",
      "\n",
      "\n",
      "f1 = 0.722502099076\n",
      "\n",
      "\n",
      "Classification report:\n",
      "             precision    recall  f1-score   support\n",
      "\n",
      "          0       0.27      0.33      0.30      5064\n",
      "          1       0.75      0.69      0.72     14887\n",
      "\n",
      "avg / total       0.63      0.60      0.62     19951\n",
      "\n",
      "\n",
      "\n",
      "Model coefficients:\n",
      "          Variable  Coefficient\n",
      "0              age     0.001031\n",
      "1           income     0.000001\n",
      "2  time_difference    -0.000072\n"
     ]
    }
   ],
   "source": [
    "def test_model(subset):\n",
    "    \"\"\"\n",
    "    Description: \n",
    "      Tests logistic regression model on training or test data\n",
    "    \n",
    "    Parameters:\n",
    "        subset (string) - can either be 'train' or 'test' depending on what subset\n",
    "                          of the data the user wants to test\n",
    "    \n",
    "    Output:\n",
    "        conf_matrix (array) - Confusion matrix that details true positives, false positives, \n",
    "                             true negatives and false positives\n",
    "    \"\"\"\n",
    "    \n",
    "    if subset.lower() == 'train':\n",
    "    \n",
    "        y_pred=model.predict(X_train) # create a list of predictions based on predictor variables\n",
    "    \n",
    "        y_true = y_train['viewed']\n",
    "        # y_true = y_true.to_numpy()\n",
    "        \n",
    "        conf_matrix = confusion_matrix(y_true, y_pred) #, rownames=['Actual'], colnames=['Predicted'])\n",
    "    \n",
    "    else:\n",
    "\n",
    "        y_pred=model.predict(X_test) # create a list of predictions based on predictor variables\n",
    "        \n",
    "        y_true = y_test['viewed']\n",
    "        # y_true = y_true.to_numpy()\n",
    "        \n",
    "        conf_matrix = confusion_matrix(y_true, y_pred) #, rownames=['Actual'], colnames=['Predicted'])\n",
    "        \n",
    "    \n",
    "    # Accuracy\n",
    "    from sklearn.metrics import accuracy_score\n",
    "    print('accuracy = '+ str(accuracy_score(y_true, y_pred)))\n",
    "    print('\\n')\n",
    "    \n",
    "    # Recall\n",
    "    from sklearn.metrics import recall_score\n",
    "    print('recall = '+ str(recall_score(y_true, y_pred)))\n",
    "    print('\\n')\n",
    "    \n",
    "    # Precision\n",
    "    from sklearn.metrics import precision_score\n",
    "    print('precision = '+ str(precision_score(y_true, y_pred)))\n",
    "    print('\\n')\n",
    "    \n",
    "    from sklearn.metrics import f1_score\n",
    "    print('f1 = '+ str(f1_score(y_true, y_pred)))\n",
    "    \n",
    "    print('\\n')\n",
    "    print('Classification report:')\n",
    "    print(classification_report(y_true, y_pred))\n",
    "    print('\\n')\n",
    "    print('Model coefficients:')\n",
    "    # print(model.coef_)\n",
    "    # print(X.columns)\n",
    "    \n",
    "    temp = model.coef_.tolist()\n",
    "    coefficient_list = [item for sublist in temp for item in sublist]\n",
    "    dictionary = {'Variable':X.columns, 'Coefficient':coefficient_list}\n",
    "    coefficients = pd.DataFrame(dictionary)\n",
    "    print(coefficients)\n",
    "    \n",
    "    return(conf_matrix)\n",
    "\n",
    "lr_conf_matrix = test_model('test')"
   ]
  },
  {
   "cell_type": "code",
   "execution_count": 24,
   "metadata": {},
   "outputs": [
    {
     "data": {
      "text/plain": [
       "RandomForestClassifier(bootstrap=True, class_weight={1: 1, 0: 1},\n",
       "            criterion='gini', max_depth=None, max_features='auto',\n",
       "            max_leaf_nodes=None, min_impurity_decrease=0.0,\n",
       "            min_impurity_split=None, min_samples_leaf=1,\n",
       "            min_samples_split=2, min_weight_fraction_leaf=0.0,\n",
       "            n_estimators=100, n_jobs=1, oob_score=False, random_state=42,\n",
       "            verbose=0, warm_start=False)"
      ]
     },
     "execution_count": 24,
     "metadata": {},
     "output_type": "execute_result"
    }
   ],
   "source": [
    "# random forest classifier to predict who will view offer based on age, income, and days since joining\n",
    "\n",
    "from sklearn.ensemble import RandomForestClassifier\n",
    "\n",
    "# Create the model with 100 trees\n",
    "model = RandomForestClassifier(n_estimators=100, \n",
    "                               max_features='auto',\n",
    "                               bootstrap=True,\n",
    "                               random_state=42,\n",
    "                               class_weight={1:1, 0:1})\n",
    "\n",
    "# Fit on training data\n",
    "model.fit(X_train, np.ravel(y_train))"
   ]
  },
  {
   "cell_type": "code",
   "execution_count": 26,
   "metadata": {},
   "outputs": [
    {
     "name": "stdout",
     "output_type": "stream",
     "text": [
      "\n",
      "\n",
      "Classification report:\n",
      "             precision    recall  f1-score   support\n",
      "\n",
      "          0       0.33      0.23      0.27      5064\n",
      "          1       0.76      0.84      0.80     14887\n",
      "\n",
      "avg / total       0.65      0.69      0.67     19951\n",
      "\n",
      "#---------------\n",
      "\n",
      "\n",
      "Classification report:\n",
      "             precision    recall  f1-score   support\n",
      "\n",
      "          0       0.33      0.23      0.27      5064\n",
      "          1       0.76      0.84      0.80     14887\n",
      "\n",
      "avg / total       0.65      0.69      0.67     19951\n",
      "\n",
      "#---------------\n"
     ]
    }
   ],
   "source": [
    "def test_model(subset):\n",
    "    \"\"\"\n",
    "    Description: \n",
    "      Tests random forest model on training or test data\n",
    "    \n",
    "    Parameters:\n",
    "        subset (string) - can either be 'train' or 'test' depending on what subset\n",
    "                          of the data the user wants to test\n",
    "    \n",
    "    Output:\n",
    "        conf_matrix (array) - Confusion matrix that details true positives, false positives, \n",
    "                             true negatives and false positives\n",
    "    \"\"\"\n",
    "    \n",
    "    if subset.lower() == 'train':\n",
    "    \n",
    "        y_pred=model.predict(X_train) # create a list of predictions based on predictor variables\n",
    "    \n",
    "        y_true = y_train['viewed']\n",
    "        # y_true = y_true.to_numpy()\n",
    "        \n",
    "        conf_matrix = confusion_matrix(y_true, y_pred) #, rownames=['Actual'], colnames=['Predicted'])\n",
    "    \n",
    "    else:\n",
    "\n",
    "        y_pred=model.predict(X_test) # create a list of predictions based on predictor variables\n",
    "        \n",
    "        y_true = y_test['viewed']\n",
    "        # y_true = y_true.to_numpy()\n",
    "        \n",
    "        conf_matrix = confusion_matrix(y_true, y_pred) #, rownames=['Actual'], colnames=['Predicted'])\n",
    "    \n",
    "    print('\\n')\n",
    "    print('Classification report:')\n",
    "    print(classification_report(y_true, y_pred))\n",
    "    print('#---------------')\n",
    "    \n",
    "    if subset.lower() == 'test':\n",
    "        \n",
    "    \n",
    "        y_pred=model.predict(X_test) # create a list of predictions based on predictor variables\n",
    "    \n",
    "        y_true = y_test['viewed']\n",
    "        # y_true = y_true.to_numpy()\n",
    "        \n",
    "        conf_matrix = confusion_matrix(y_true, y_pred) #, rownames=['Actual'], colnames=['Predicted'])\n",
    "    \n",
    "    else:\n",
    "\n",
    "        y_pred=model.predict(X_test) # create a list of predictions based on predictor variables\n",
    "        \n",
    "        y_true = y_test['viewed']\n",
    "        # y_true = y_true.to_numpy()\n",
    "        \n",
    "        conf_matrix = confusion_matrix(y_true, y_pred) #, rownames=['Actual'], colnames=['Predicted'])\n",
    "    \n",
    "    print('\\n')\n",
    "    print('Classification report:')\n",
    "    print(classification_report(y_true, y_pred))\n",
    "    print('#---------------')\n",
    "    \n",
    "    return(conf_matrix)\n",
    "\n",
    "\n",
    "rf_conf_matrix = test_model('test')"
   ]
  }
 ],
 "metadata": {
  "kernelspec": {
   "display_name": "Python 3",
   "language": "python",
   "name": "python3"
  },
  "language_info": {
   "codemirror_mode": {
    "name": "ipython",
    "version": 3
   },
   "file_extension": ".py",
   "mimetype": "text/x-python",
   "name": "python",
   "nbconvert_exporter": "python",
   "pygments_lexer": "ipython3",
   "version": "3.6.3"
  }
 },
 "nbformat": 4,
 "nbformat_minor": 2
}
